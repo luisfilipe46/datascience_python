{
 "cells": [
  {
   "cell_type": "markdown",
   "metadata": {
    "deletable": true,
    "editable": true
   },
   "source": [
    "# Mean, Median, Mode, and introducing NumPy"
   ]
  },
  {
   "cell_type": "markdown",
   "metadata": {
    "deletable": true,
    "editable": true
   },
   "source": [
    "## Mean vs. Median"
   ]
  },
  {
   "cell_type": "markdown",
   "metadata": {
    "deletable": true,
    "editable": true
   },
   "source": [
    "Let's create some fake income data, centered around 27,000 with a normal distribution and standard deviation of 15,000, with 10,000 data points. (We'll discuss those terms more later, if you're not familiar with them.)\n",
    "\n",
    "Then, compute the mean (average) - it should be close to 27,000:"
   ]
  },
  {
   "cell_type": "code",
   "execution_count": 2,
   "metadata": {
    "collapsed": false,
    "deletable": true,
    "editable": true
   },
   "outputs": [
    {
     "data": {
      "text/plain": [
       "26868.47039982913"
      ]
     },
     "execution_count": 2,
     "metadata": {},
     "output_type": "execute_result"
    }
   ],
   "source": [
    "import numpy as np\n",
    "\n",
    "incomes = np.random.normal(27000, 15000, 10000)\n",
    "np.mean(incomes)"
   ]
  },
  {
   "cell_type": "markdown",
   "metadata": {
    "deletable": true,
    "editable": true
   },
   "source": [
    "We can segment the income data into 50 buckets, and plot it as a histogram:"
   ]
  },
  {
   "cell_type": "code",
   "execution_count": 3,
   "metadata": {
    "collapsed": false,
    "deletable": true,
    "editable": true
   },
   "outputs": [
    {
     "data": {
      "image/png": "[encoded data removed]",
      "text/plain": [
       "<matplotlib.figure.Figure at 0x7f085807b6a0>"
      ]
     },
     "metadata": {},
     "output_type": "display_data"
    }
   ],
   "source": [
    "%matplotlib inline\n",
    "import matplotlib.pyplot as plt\n",
    "plt.hist(incomes, 50)\n",
    "plt.show()"
   ]
  },
  {
   "cell_type": "markdown",
   "metadata": {
    "deletable": true,
    "editable": true
   },
   "source": [
    "Now compute the median - since we have a nice, even distribution it too should be close to 27,000:"
   ]
  },
  {
   "cell_type": "code",
   "execution_count": 4,
   "metadata": {
    "collapsed": false,
    "deletable": true,
    "editable": true
   },
   "outputs": [
    {
     "data": {
      "text/plain": [
       "26856.651255708017"
      ]
     },
     "execution_count": 4,
     "metadata": {},
     "output_type": "execute_result"
    }
   ],
   "source": [
    "np.median(incomes)"
   ]
  },
  {
   "cell_type": "markdown",
   "metadata": {
    "deletable": true,
    "editable": true
   },
   "source": [
    "Now we'll add Donald Trump into the mix. Darn income inequality!"
   ]
  },
  {
   "cell_type": "code",
   "execution_count": 5,
   "metadata": {
    "collapsed": false,
    "deletable": true,
    "editable": true
   },
   "outputs": [],
   "source": [
    "incomes = np.append(incomes, [1000000000])"
   ]
  },
  {
   "cell_type": "markdown",
   "metadata": {
    "deletable": true,
    "editable": true
   },
   "source": [
    "The median won't change much, but the mean does:"
   ]
  },
  {
   "cell_type": "code",
   "execution_count": 6,
   "metadata": {
    "collapsed": false,
    "deletable": true,
    "editable": true
   },
   "outputs": [
    {
     "data": {
      "text/plain": [
       "26861.43312581706"
      ]
     },
     "execution_count": 6,
     "metadata": {},
     "output_type": "execute_result"
    }
   ],
   "source": [
    "np.median(incomes)"
   ]
  },
  {
   "cell_type": "code",
   "execution_count": 7,
   "metadata": {
    "collapsed": false,
    "deletable": true,
    "editable": true
   },
   "outputs": [
    {
     "data": {
      "text/plain": [
       "126855.78482134701"
      ]
     },
     "execution_count": 7,
     "metadata": {},
     "output_type": "execute_result"
    }
   ],
   "source": [
    "np.mean(incomes)"
   ]
  },
  {
   "cell_type": "markdown",
   "metadata": {
    "deletable": true,
    "editable": true
   },
   "source": [
    "## Mode"
   ]
  },
  {
   "cell_type": "markdown",
   "metadata": {
    "deletable": true,
    "editable": true
   },
   "source": [
    "Next, let's generate some fake age data for 500 people:"
   ]
  },
  {
   "cell_type": "code",
   "execution_count": 12,
   "metadata": {
    "collapsed": false,
    "deletable": true,
    "editable": true
   },
   "outputs": [
    {
     "data": {
      "text/plain": [
       "array([77, 66, 82, 60, 48, 32, 70, 31, 80, 75, 39, 80, 81, 49, 74, 21, 38,\n",
       "       62, 57, 49, 87, 84, 76, 69, 34, 87, 84, 71, 36, 43, 59, 69, 84, 28,\n",
       "       47, 57, 87, 40, 36, 79, 63, 70, 54, 31, 63, 21, 56, 82, 88, 79, 41,\n",
       "       79, 73, 52, 25, 30, 59, 88, 75, 44, 58, 45, 72, 87, 74, 42, 23, 70,\n",
       "       88, 53, 67, 81, 53, 50, 85, 39, 54, 74, 47, 35, 38, 28, 86, 79, 76,\n",
       "       29, 58, 65, 70, 33, 61, 80, 54, 65, 37, 77, 66, 76, 81, 75, 43, 61,\n",
       "       52, 50, 82, 21, 46, 28, 57, 37, 50, 80, 87, 38, 86, 51, 61, 19, 38,\n",
       "       79, 89, 36, 57, 49, 68, 57, 64, 77, 81, 75, 21, 83, 53, 28, 78, 79,\n",
       "       32, 36, 22, 64, 44, 38, 47, 25, 73, 86, 48, 18, 50, 88, 36, 37, 68,\n",
       "       77, 42, 63, 78, 88, 56, 56, 64, 75, 50, 37, 49, 32, 44, 51, 39, 63,\n",
       "       62, 68, 43, 18, 21, 26, 19, 71, 45, 26, 19, 69, 21, 61, 28, 49, 46,\n",
       "       43, 43, 57, 60, 30, 18, 47, 82, 77, 70, 63, 18, 23, 83, 30, 73, 79,\n",
       "       84, 46, 75, 82, 89, 73, 45, 18, 76, 48, 75, 46, 50, 48, 61, 20, 87,\n",
       "       52, 79, 71, 57, 76, 82, 70, 69, 19, 40, 71, 68, 61, 32, 53, 29, 30,\n",
       "       63, 69, 24, 70, 34, 56, 75, 55, 74, 44, 82, 19, 78, 25, 73, 83, 73,\n",
       "       76, 55, 53, 59, 40, 28, 39, 66, 24, 67, 29, 40, 88, 87, 31, 67, 45,\n",
       "       48, 87, 72, 77, 38, 66, 48, 82, 22, 50, 86, 25, 34, 59, 59, 21, 27,\n",
       "       24, 24, 47, 69, 49, 36, 24, 77, 30, 89, 19, 48, 48, 31, 24, 60, 68,\n",
       "       18, 36, 31, 57, 84, 36, 61, 77, 48, 30, 34, 19, 43, 30, 67, 61, 85,\n",
       "       59, 22, 57, 80, 75, 38, 23, 86, 59, 48, 36, 50, 18, 87, 30, 79, 26,\n",
       "       21, 64, 28, 48, 73, 79, 28, 18, 74, 45, 44, 81, 38, 41, 32, 74, 75,\n",
       "       32, 74, 26, 51, 35, 45, 30, 32, 69, 55, 34, 29, 75, 22, 85, 57, 23,\n",
       "       22, 66, 23, 54, 50, 82, 73, 52, 23, 82, 27, 37, 72, 30, 77, 52, 24,\n",
       "       42, 54, 67, 68, 24, 81, 31, 80, 86, 29, 29, 43, 36, 45, 74, 46, 69,\n",
       "       42, 40, 58, 35, 50, 84, 42, 47, 40, 25, 23, 71, 19, 28, 75, 49, 51,\n",
       "       41, 36, 22, 69, 88, 21, 80, 77, 78, 88, 43, 64, 31, 76, 66, 74, 57,\n",
       "       21, 28, 43, 82, 58, 73, 32, 56, 43, 50, 71, 86, 37, 39, 89, 35, 73,\n",
       "       81, 77, 44, 30, 86, 89, 18, 42, 73, 34, 30, 34, 43, 63, 65, 51, 55,\n",
       "       52, 36, 54, 44, 89, 67, 18, 24, 32, 75, 49, 43, 55, 78, 24, 86, 57,\n",
       "       69, 87, 67, 18, 20, 73, 36])"
      ]
     },
     "execution_count": 12,
     "metadata": {},
     "output_type": "execute_result"
    }
   ],
   "source": [
    "ages = np.random.randint(18, high=90, size=500)\n",
    "ages"
   ]
  },
  {
   "cell_type": "code",
   "execution_count": 15,
   "metadata": {
    "collapsed": false,
    "deletable": true,
    "editable": true
   },
   "outputs": [
    {
     "data": {
      "text/plain": [
       "ModeResult(mode=array([36]), count=array([13]))"
      ]
     },
     "execution_count": 15,
     "metadata": {},
     "output_type": "execute_result"
    }
   ],
   "source": [
    "from scipy import stats\n",
    "stats.mode(ages)"
   ]
  },
  {
   "cell_type": "code",
   "execution_count": null,
   "metadata": {
    "collapsed": false,
    "deletable": true,
    "editable": true
   },
   "outputs": [],
   "source": []
  }
 ],
 "metadata": {
  "kernelspec": {
   "display_name": "Python 3",
   "language": "python",
   "name": "python3"
  },
  "language_info": {
   "codemirror_mode": {
    "name": "ipython",
    "version": 3
   },
   "file_extension": ".py",
   "mimetype": "text/x-python",
   "name": "python",
   "nbconvert_exporter": "python",
   "pygments_lexer": "ipython3",
   "version": "3.5.2"
  }
 },
 "nbformat": 4,
 "nbformat_minor": 0
}
